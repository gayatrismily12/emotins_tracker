{
 "cells": [
  {
   "cell_type": "code",
   "execution_count": 58,
   "id": "8eab5093-3121-45a3-8e65-9a7015f43557",
   "metadata": {},
   "outputs": [],
   "source": [
    "# Use a pipeline as a high-level helper\n",
    "from transformers import pipeline\n",
    "\n",
    "pipe = pipeline(\"sentiment-analysis\", model=\"bhadresh-savani/bert-base-go-emotion\")"
   ]
  },
  {
   "cell_type": "code",
   "execution_count": 59,
   "id": "94cefeac-3d2c-4ec2-8313-44c6b16b6256",
   "metadata": {},
   "outputs": [],
   "source": [
    "import spacy\n",
    "nlp=spacy.load(\"en_core_web_sm\")"
   ]
  },
  {
   "cell_type": "code",
   "execution_count": 60,
   "id": "435a3022-207f-496a-a5af-4864979c7437",
   "metadata": {},
   "outputs": [],
   "source": [
    "def normalise(text):\n",
    "  return text.lower()\n",
    "\n"
   ]
  },
  {
   "cell_type": "code",
   "execution_count": 61,
   "id": "f3ba7c5e-f209-499e-8057-808cbd166f16",
   "metadata": {},
   "outputs": [],
   "source": [
    "def lemmatisation(text):\n",
    "    doc = nlp(text)\n",
    "    lemmatized_text = ' '.join(token.lemma_ for token in doc)  # Join lemmatized tokens into a single string\n",
    "    return lemmatized_text\n"
   ]
  },
  {
   "cell_type": "code",
   "execution_count": 62,
   "id": "5a92489a-2813-4cb6-a000-2c474011f701",
   "metadata": {},
   "outputs": [],
   "source": [
    "def remove_stop_words(text):\n",
    "    doc=nlp(text)\n",
    "    no_stop_word_text=[token.text for token in doc if not token.is_stop]\n",
    "    return ' '.join(no_stop_word_text)"
   ]
  },
  {
   "cell_type": "code",
   "execution_count": 63,
   "id": "69240061-a29d-4705-bf68-c0430db4dc52",
   "metadata": {},
   "outputs": [],
   "source": [
    "def remove_punctuations(text):\n",
    "    doc=nlp(text)\n",
    "    no_punct_text=[token.text for token in doc if not token.is_punct]\n",
    "    return ' '.join(no_punct_text)"
   ]
  },
  {
   "cell_type": "code",
   "execution_count": 64,
   "id": "cd1a4d55-fbda-41b8-ab28-e4fdf5404025",
   "metadata": {},
   "outputs": [],
   "source": [
    "\n",
    "def remove_numbers(text):\n",
    "    doc = nlp(text)\n",
    "    no_number_text = [token.text for token in doc if token.is_alpha]\n",
    "    return ' '.join(no_number_text)\n"
   ]
  },
  {
   "cell_type": "code",
   "execution_count": 208,
   "id": "50c18842-1879-466d-a148-0276454df44e",
   "metadata": {},
   "outputs": [],
   "source": [
    "def predict_emotion(text):\n",
    "    after_normalise = normalise(text)\n",
    "    after_remove_numbers=remove_numbers(after_normalise)\n",
    "    after_remove_Stopwords=remove_stop_words(after_remove_numbers)\n",
    "    lemmatised=lemmatisation(after_remove_Stopwords)\n",
    "    emotion=pipe(lemmatised)\n",
    "    return emotion[0]['label']"
   ]
  },
  {
   "cell_type": "code",
   "execution_count": 242,
   "id": "99987bb5-b652-4c76-aa97-703bfb0169b4",
   "metadata": {},
   "outputs": [
    {
     "data": {
      "text/plain": [
       "'neutral'"
      ]
     },
     "execution_count": 242,
     "metadata": {},
     "output_type": "execute_result"
    }
   ],
   "source": [
    "final=predict_emotion(\"why are you yelling\")\n",
    "final"
   ]
  },
  {
   "cell_type": "code",
   "execution_count": 243,
   "id": "e43605ed-0eb3-4ba3-82dd-e3501d3f66cc",
   "metadata": {},
   "outputs": [],
   "source": [
    "emotion_mapping = {\n",
    "    \"anger\": \"Anger\",\n",
    "    \"disgust\": \"Disgust\",\n",
    "    \"fear\": \"Anxiety/Fear\",\n",
    "    \"happiness\": \"Happiness\",\n",
    "    \"sadness\": \"Sadness\",\n",
    "    \"surprise\": \"Neutral\",  \n",
    "    \"amusement\": \"Happiness\",\n",
    "    \"approval\": \"Happiness\",\n",
    "    \"caring\": \"Happiness\",\n",
    "    \"joy\": \"Happiness\",\n",
    "    \"relief\": \"Happiness\",\n",
    "    \"trust\": \"Happiness\",\n",
    "    \"admiration\": \"Happiness\",\n",
    "    \"optimism\": \"Happiness\",\n",
    "    \"gratitude\": \"Happiness\",\n",
    "    \"curiosity\": \"Neutral\",\n",
    "    \"nostalgia\": \"Neutral\",\n",
    "    \"desire\": \"Neutral\",\n",
    "    \"interest\": \"Neutral\",\n",
    "    \"pride\": \"Neutral\",\n",
    "    \"realization\": \"Neutral\",\n",
    "    \"sympathy\": \"Neutral\",\n",
    "    \"confusion\": \"Neutral\",\n",
    "    \"annoyance\": \"Anger\",\n",
    "    \"disappointment\": \"Sadness\",\n",
    "    \"boredom\": \"Neutral\",\n",
    "}\n",
    "\n",
    "\n",
    "def map_emotion(goemotion_label):\n",
    "    if final in emotion_mapping.keys():\n",
    "        return emotion_mapping[goemotion_label]\n",
    "    else:\n",
    "        return \"Unknown emotion\" "
   ]
  },
  {
   "cell_type": "code",
   "execution_count": 244,
   "id": "ebb57c95-4bb0-49f6-a1cc-71d326d12032",
   "metadata": {},
   "outputs": [
    {
     "name": "stdout",
     "output_type": "stream",
     "text": [
      "Unknown emotion\n"
     ]
    }
   ],
   "source": [
    "mapped_emotion = map_emotion(final)\n",
    "print(mapped_emotion) "
   ]
  },
  {
   "cell_type": "code",
   "execution_count": 258,
   "id": "ca623901-2491-4778-b9e6-195cbdad595a",
   "metadata": {},
   "outputs": [],
   "source": [
    "import requests\n",
    "from bs4 import BeautifulSoup\n",
    "\n",
    "def get_recommendations(mapped_emotion):\n",
    "    # Set a user-agent to mimic a web browser\n",
    "    headers = {\n",
    "        'User-Agent': 'Mozilla/5.0 (Windows NT 10.0; Win64; x64) AppleWebKit/537.36 (KHTML, like Gecko) Chrome/89.0.4389.82 Safari/537.36'\n",
    "    }\n",
    "    \n",
    "    if mapped_emotion == 'anger':\n",
    "        url = \"https://www.mayoclinic.org/healthy-lifestyle/adult-health/in-depth/anger-management/art-20045434\"\n",
    "\n",
    "        response = requests.get(url, headers=headers)\n",
    "\n",
    "        if response.status_code == 200:\n",
    "            soup = BeautifulSoup(response.text, 'html.parser')\n",
    "            \n",
    "            # Find all h3 headings and their following p paragraphs\n",
    "            headings = soup.find_all('h3')\n",
    "            \n",
    "            for heading in headings:\n",
    "                heading_text = heading.get_text(strip=True)\n",
    "                \n",
    "                # Stop processing if we reach the \"Thank you for subscribing\" section\n",
    "                if \"Thank you for subscribing\" in heading_text:\n",
    "                    break  # Exit the loop\n",
    "                \n",
    "                # Print the heading\n",
    "                print(heading_text)\n",
    "                \n",
    "                # Find the next sibling <p> element\n",
    "                next_p = heading.find_next_sibling('p')\n",
    "                if next_p:\n",
    "                    print(next_p.get_text(strip=True))\n",
    "                print()  # Print a new line for better readability\n",
    "\n",
    "    elif mapped_emotion == \"sadness\":\n",
    "        print(\"1. Acknowledge Your Feelings: Recognize that it’s okay to feel sad. Accepting your emotions is the first step toward healing.\")\n",
    "        print(\"2. Limit Social Media\")\n",
    "        print(\"3. Vent out your feelings\")\n",
    "        print(\"4. It's okay to cry\")\n",
    "        print(\"5. Meditation\")\n",
    "        print(\"6. Practice gratitude\")\n",
    "        print(\"7. Journal your thoughts\")\n",
    "        print(\"8. Stop alcohol and drugs\")\n",
    "\n",
    "    elif mapped_emotion == \"disgust\":\n",
    "        print(\"1. Acknowledge Your Feelings\")\n",
    "        print(\"2. Identify triggers.\")\n",
    "        print(\"3. Practice mindfulness.\")\n",
    "        print(\"4. Distract yourself positively.\")\n",
    "        print(\"5. CBT\")\n",
    "        print(\"6. Express yourself\")\n",
    "    \n",
    "    elif mapped_emotion == \"fear\":\n",
    "        print(\"1. Identify source\")\n",
    "        print(\"2. Pratice deep breathing\")\n",
    "        print(\"3. Gradual Exposure\")\n",
    "        print(\"4. Limit exposure to triggers\")\n",
    "        print(\"5. Seek professional help\")\n",
    "        print(\"6. CBT\")\n",
    "\n",
    "    elif mapped_emotion == \"neutral\":\n",
    "        print(\"Feeling Neutral? That's Okay!\")\n",
    "        print(\"It's perfectly normal to experience moments of neutrality.\")\n",
    "\n",
    "    elif mapped_emotion == \"happiness\":\n",
    "        print(\"Feeling Happy?Celebrate it\")\n",
    "\n"
   ]
  },
  {
   "cell_type": "code",
   "execution_count": null,
   "id": "7e2319a1-f600-4918-875f-ac8456ffe044",
   "metadata": {},
   "outputs": [],
   "source": []
  }
 ],
 "metadata": {
  "kernelspec": {
   "display_name": "Python 3 (ipykernel)",
   "language": "python",
   "name": "python3"
  },
  "language_info": {
   "codemirror_mode": {
    "name": "ipython",
    "version": 3
   },
   "file_extension": ".py",
   "mimetype": "text/x-python",
   "name": "python",
   "nbconvert_exporter": "python",
   "pygments_lexer": "ipython3",
   "version": "3.9.20"
  }
 },
 "nbformat": 4,
 "nbformat_minor": 5
}
